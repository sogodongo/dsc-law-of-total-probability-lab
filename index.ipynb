{
 "cells": [
  {
   "cell_type": "markdown",
   "metadata": {},
   "source": [
    "# Partitioning and Law of Total Probability - Lab\n",
    "\n",
    "## Introduction \n",
    "In this lab, you'll practice your knowledge of the law of total probability. In probability theory, the law (or formula) of total probability is a fundamental rule relating **marginal probabilities** to **conditional probabilities**.\n",
    "\n",
    "## Objectives\n",
    "\n",
    "You will be able to:\n",
    "\n",
    "* Differentiate between independent and dependent events\n",
    "* Perform partitioning based on known and unknown probabilities to solve a problem"
   ]
  },
  {
   "cell_type": "markdown",
   "metadata": {},
   "source": [
    "## Exercise 1\n",
    "Imagine you have two hats: one has 4 red balls and 6 green balls, the other has 6 red and 4 green. We toss a fair coin, if heads, you will pick a random ball from the first hat, if tails you will pick one from the second hat. \n",
    "\n",
    "What is the probability of getting a red ball?"
   ]
  },
  {
   "cell_type": "code",
   "execution_count": 1,
   "metadata": {},
   "outputs": [
    {
     "data": {
      "text/plain": [
       "0.5"
      ]
     },
     "execution_count": 1,
     "metadata": {},
     "output_type": "execute_result"
    }
   ],
   "source": [
    "# Calculation of the probability of getting a red ball\n",
    "\n",
    "# Probability of coin landing on heads\n",
    "prob_heads = 0.5\n",
    "\n",
    "# Probability of coin landing on tails\n",
    "prob_tails = 0.5\n",
    "\n",
    "# Probability of getting a red ball given coin lands on heads (from the first hat)\n",
    "prob_red_given_heads = 4 / 10\n",
    "\n",
    "# Probability of getting a red ball given coin lands on tails (from the second hat)\n",
    "prob_red_given_tails = 6 / 10\n",
    "\n",
    "# Probability of getting a red ball using the law of total probability\n",
    "prob_red = prob_heads * prob_red_given_heads + prob_tails * prob_red_given_tails\n",
    "\n",
    "prob_red\n"
   ]
  },
  {
   "cell_type": "markdown",
   "metadata": {},
   "source": [
    "## Exercise 2\n",
    "In games where at least one goal is made, a soccer team wins 60% of its games when it scores the first goal, and 10% of its games when the opposing team \n",
    "scores first. \n",
    "\n",
    "If the team scores the first goal about 30% of the time, what fraction of the games does it win?"
   ]
  },
  {
   "cell_type": "code",
   "execution_count": 2,
   "metadata": {},
   "outputs": [
    {
     "data": {
      "text/plain": [
       "0.25"
      ]
     },
     "execution_count": 2,
     "metadata": {},
     "output_type": "execute_result"
    }
   ],
   "source": [
    "# Calculation of the fraction of games that the team wins\n",
    "\n",
    "# Probability of team scoring the first goal\n",
    "prob_first_goal = 0.3\n",
    "\n",
    "# Probability of opposing team scoring the first goal\n",
    "prob_opposing_first_goal = 0.7\n",
    "\n",
    "# Probability of winning given that team scores the first goal\n",
    "prob_win_given_first_goal = 0.6\n",
    "\n",
    "# Probability of winning given that opposing team scores the first goal\n",
    "prob_win_given_opposing_first_goal = 0.1\n",
    "\n",
    "# Fraction of games that the team wins using the law of total probability\n",
    "fraction_wins = (prob_first_goal * prob_win_given_first_goal) + (prob_opposing_first_goal * prob_win_given_opposing_first_goal)\n",
    "\n",
    "fraction_wins\n"
   ]
  },
  {
   "cell_type": "markdown",
   "metadata": {},
   "source": [
    "## Exercise 3"
   ]
  },
  {
   "cell_type": "markdown",
   "metadata": {},
   "source": [
    "In Europe, except for regular gas, cars often run on diesel as well. At a gas station in Paris; \n",
    "\n",
    "\n",
    "* 40% of the customers fill up with diesel (event G1) \n",
    "* 35% with gas \"Super 95\" (event G2)\n",
    "* 25% with gas \"Super 98\" (event G3). \n",
    "\n",
    "\n",
    "* 30% of the customers who buy diesel fill their tank completely (event F). \n",
    "* For \"Super 95\" and \"Super 98\", these numbers are  60% and 50%, respectively.\n",
    "\n",
    "\n",
    "- Compute the probability that the next customer completely fills their tank and buys Super 95. \n",
    "- Compute the probability that the next customer completely fills their tank\n",
    "- Given that the next customer fills their tank completely, compute the probability that they bought diesel. \n",
    "\n",
    "Hint: Consult the theorems for conditional probability, check for dependence or independence of events"
   ]
  },
  {
   "cell_type": "markdown",
   "metadata": {},
   "source": [
    "Computing the probability of the customer completely filling their tank and buying Super 95 (P(F ∩ G2)):"
   ]
  },
  {
   "cell_type": "code",
   "execution_count": 4,
   "metadata": {},
   "outputs": [
    {
     "data": {
      "text/plain": [
       "0.21"
      ]
     },
     "execution_count": 4,
     "metadata": {},
     "output_type": "execute_result"
    }
   ],
   "source": [
    "# Probability of filling up with gas \"Super 95\"\n",
    "prob_G2 = 0.35\n",
    "\n",
    "# Probability of completely filling the tank given filling up with gas \"Super 95\"\n",
    "prob_F_given_G2 = 0.6\n",
    "\n",
    "# Probability of the customer completely filling their tank and buying Super 95\n",
    "prob_F_and_G2 = prob_G2 * prob_F_given_G2\n",
    "\n",
    "prob_F_and_G2\n"
   ]
  },
  {
   "cell_type": "markdown",
   "metadata": {},
   "source": [
    "Computing the probability of the customer completely filling their tank (P(F)):"
   ]
  },
  {
   "cell_type": "code",
   "execution_count": 6,
   "metadata": {},
   "outputs": [
    {
     "data": {
      "text/plain": [
       "0.45499999999999996"
      ]
     },
     "execution_count": 6,
     "metadata": {},
     "output_type": "execute_result"
    }
   ],
   "source": [
    "# Probability of filling up with diesel\n",
    "prob_G1 = 0.4\n",
    "\n",
    "# Probability of completely filling the tank given filling up with diesel\n",
    "prob_F_given_G1 = 0.3\n",
    "\n",
    "# Probability of filling up with gas \"Super 95\"\n",
    "prob_G2 = 0.35\n",
    "\n",
    "# Probability of completely filling the tank given filling up with gas \"Super 95\"\n",
    "prob_F_given_G2 = 0.6\n",
    "\n",
    "# Probability of filling up with gas \"Super 98\"\n",
    "prob_G3 = 0.25\n",
    "\n",
    "# Probability of completely filling the tank given filling up with gas \"Super 98\"\n",
    "prob_F_given_G3 = 0.5\n",
    "\n",
    "# Probability of completely filling the tank\n",
    "prob_F = (prob_G1 * prob_F_given_G1) + (prob_G2 * prob_F_given_G2) + (prob_G3 * prob_F_given_G3)\n",
    "\n",
    "prob_F\n"
   ]
  },
  {
   "cell_type": "markdown",
   "metadata": {},
   "source": [
    "Computing the probability of buying diesel given that the customer completely fills their tank (P(G1|F)):"
   ]
  },
  {
   "cell_type": "code",
   "execution_count": 8,
   "metadata": {},
   "outputs": [
    {
     "data": {
      "text/plain": [
       "0.26373626373626374"
      ]
     },
     "execution_count": 8,
     "metadata": {},
     "output_type": "execute_result"
    }
   ],
   "source": [
    "# Probability of filling up with diesel given completely filling the tank\n",
    "prob_G1_given_F = (prob_G1 * prob_F_given_G1) / prob_F\n",
    "prob_G1_given_F\n"
   ]
  },
  {
   "cell_type": "markdown",
   "metadata": {},
   "source": [
    "## Exercise 4"
   ]
  },
  {
   "cell_type": "markdown",
   "metadata": {},
   "source": [
    "United Airlines operates flights from JFK to Amsterdam, to Brussels, and to Copenhagen. As you may know, flights are overbooked fairly often. Let's denote the probability of the flight to Amsterdam being overbooked equal to 40%, the probability of the flight to Brussels being overbooked equal to 25%, and the probability of the flight to Copenhagen being overbooked equal to 35%. You can assume that these events of overbooking are independent events."
   ]
  },
  {
   "cell_type": "markdown",
   "metadata": {},
   "source": [
    "- Compute the probability that all the flights are overbooked.\n",
    "- Compute the probability of having at least one flight which is not overbooked.\n",
    "- Compute the probability that exactly one flight is overbooked."
   ]
  },
  {
   "cell_type": "markdown",
   "metadata": {},
   "source": [
    "Computing the probability that all flights are overbooked (P(A ∩ B ∩ C)):"
   ]
  },
  {
   "cell_type": "code",
   "execution_count": 10,
   "metadata": {},
   "outputs": [
    {
     "data": {
      "text/plain": [
       "0.034999999999999996"
      ]
     },
     "execution_count": 10,
     "metadata": {},
     "output_type": "execute_result"
    }
   ],
   "source": [
    "# Probability of flight to Amsterdam being overbooked\n",
    "prob_A = 0.4\n",
    "\n",
    "# Probability of flight to Brussels being overbooked\n",
    "prob_B = 0.25\n",
    "\n",
    "# Probability of flight to Copenhagen being overbooked\n",
    "prob_C = 0.35\n",
    "\n",
    "# Probability that all flights are overbooked\n",
    "prob_all_overbooked = prob_A * prob_B * prob_C\n",
    "\n",
    "prob_all_overbooked\n"
   ]
  },
  {
   "cell_type": "markdown",
   "metadata": {},
   "source": [
    "Computing the probability of having at least one flight which is not overbooked (P(A' ∪ B' ∪ C')):"
   ]
  },
  {
   "cell_type": "code",
   "execution_count": 11,
   "metadata": {},
   "outputs": [
    {
     "data": {
      "text/plain": [
       "0.965"
      ]
     },
     "execution_count": 11,
     "metadata": {},
     "output_type": "execute_result"
    }
   ],
   "source": [
    "# Probability of at least one flight not being overbooked\n",
    "prob_not_all_overbooked = 1 - prob_all_overbooked\n",
    "\n",
    "prob_not_all_overbooked\n"
   ]
  },
  {
   "cell_type": "markdown",
   "metadata": {},
   "source": [
    "Computing the probability that exactly one flight is overbooked (P((A ∩ B' ∩ C') ∪ (A' ∩ B ∩ C') ∪ (A' ∩ B' ∩ C))):"
   ]
  },
  {
   "cell_type": "code",
   "execution_count": 13,
   "metadata": {},
   "outputs": [
    {
     "data": {
      "text/plain": [
       "0.45"
      ]
     },
     "execution_count": 13,
     "metadata": {},
     "output_type": "execute_result"
    }
   ],
   "source": [
    "# Probability of flight to Amsterdam being overbooked\n",
    "prob_A = 0.4\n",
    "\n",
    "# Probability of flight to Brussels being overbooked\n",
    "prob_B = 0.25\n",
    "\n",
    "# Probability of flight to Copenhagen being overbooked\n",
    "prob_C = 0.35\n",
    "\n",
    "# Probability of exactly one flight being overbooked\n",
    "prob_exactly_one_overbooked = (prob_A * (1 - prob_B) * (1 - prob_C)) + ((1 - prob_A) * prob_B * (1 - prob_C)) + ((1 - prob_A) * (1 - prob_B) * prob_C)\n",
    "\n",
    "prob_exactly_one_overbooked\n"
   ]
  },
  {
   "cell_type": "markdown",
   "metadata": {},
   "source": [
    "## Exercise 5\n",
    "You have three bags that each contain 100 marbles:\n",
    "\n",
    "- Bag 1 has 75 red and 25 blue marbles;\n",
    "- Bag 2 has 60 red and 40 blue marbles;\n",
    "- Bag 3 has 45 red and 55 blue marbles.\n",
    "\n",
    "You choose one of the bags at random and then pick a marble from the chosen bag, also at random. \n",
    "\n",
    "What is the probability that the chosen marble is red?\n"
   ]
  },
  {
   "cell_type": "markdown",
   "metadata": {},
   "source": [
    "Computing the probability of selecting a red marble from Bag 1 (P(Red | Bag 1)):"
   ]
  },
  {
   "cell_type": "code",
   "execution_count": 14,
   "metadata": {},
   "outputs": [],
   "source": [
    "# Probability of selecting Bag 1\n",
    "prob_bag1 = 1/3\n",
    "\n",
    "# Probability of selecting a red marble from Bag 1\n",
    "prob_red_given_bag1 = 75/100\n",
    "\n",
    "# Probability of choosing a red marble from Bag 1\n",
    "prob_red_bag1 = prob_bag1 * prob_red_given_bag1\n"
   ]
  },
  {
   "cell_type": "markdown",
   "metadata": {},
   "source": [
    "Computing the probability of selecting a red marble from Bag 2 (P(Red | Bag 2)):"
   ]
  },
  {
   "cell_type": "code",
   "execution_count": 15,
   "metadata": {},
   "outputs": [],
   "source": [
    "# Probability of selecting Bag 2\n",
    "prob_bag2 = 1/3\n",
    "\n",
    "# Probability of selecting a red marble from Bag 2\n",
    "prob_red_given_bag2 = 60/100\n",
    "\n",
    "# Probability of choosing a red marble from Bag 2\n",
    "prob_red_bag2 = prob_bag2 * prob_red_given_bag2"
   ]
  },
  {
   "cell_type": "markdown",
   "metadata": {},
   "source": [
    "Computing the probability of selecting a red marble from Bag 3 (P(Red | Bag 3)):"
   ]
  },
  {
   "cell_type": "code",
   "execution_count": 17,
   "metadata": {},
   "outputs": [],
   "source": [
    "# Probability of selecting Bag 3\n",
    "prob_bag3 = 1/3\n",
    "\n",
    "# Probability of selecting a red marble from Bag 3\n",
    "prob_red_given_bag3 = 45/100\n",
    "\n",
    "# Probability of choosing a red marble from Bag 3\n",
    "prob_red_bag3 = prob_bag3 * prob_red_given_bag3\n"
   ]
  },
  {
   "cell_type": "markdown",
   "metadata": {},
   "source": [
    "Overall probability of choosing a red marble (P(Red)):"
   ]
  },
  {
   "cell_type": "code",
   "execution_count": 18,
   "metadata": {},
   "outputs": [
    {
     "data": {
      "text/plain": [
       "0.6"
      ]
     },
     "execution_count": 18,
     "metadata": {},
     "output_type": "execute_result"
    }
   ],
   "source": [
    "# Overall probability of choosing a red marble\n",
    "prob_red = prob_red_bag1 + prob_red_bag2 + prob_red_bag3\n",
    "\n",
    "prob_red\n"
   ]
  },
  {
   "cell_type": "markdown",
   "metadata": {},
   "source": [
    "## Summary \n",
    "\n",
    "In this lab, you practiced conditional probability and its theorem with some simple problems. The key takeaway from this lab is to be able to identify random events as dependent or independent and calculating the probability of their occurrence using appropriate methods. Next, you'll take this knowledge a step further and run simulations with conditional and total probability. "
   ]
  }
 ],
 "metadata": {
  "kernelspec": {
   "display_name": "Python 3 (ipykernel)",
   "language": "python",
   "name": "python3"
  },
  "language_info": {
   "codemirror_mode": {
    "name": "ipython",
    "version": 3
   },
   "file_extension": ".py",
   "mimetype": "text/x-python",
   "name": "python",
   "nbconvert_exporter": "python",
   "pygments_lexer": "ipython3",
   "version": "3.10.11"
  },
  "toc": {
   "base_numbering": 1,
   "nav_menu": {},
   "number_sections": true,
   "sideBar": true,
   "skip_h1_title": false,
   "title_cell": "Table of Contents",
   "title_sidebar": "Contents",
   "toc_cell": false,
   "toc_position": {},
   "toc_section_display": true,
   "toc_window_display": false
  }
 },
 "nbformat": 4,
 "nbformat_minor": 2
}
